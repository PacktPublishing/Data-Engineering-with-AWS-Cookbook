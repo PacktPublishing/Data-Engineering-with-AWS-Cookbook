{
	"cells": [
		{
			"cell_type": "markdown",
			"metadata": {
				"editable": true,
				"trusted": true
			},
			"source": [
				"# AWS Glue Studio Notebook\n",
				"##### You are now running a AWS Glue Studio notebook; To start using your notebook you need to start an AWS Glue Interactive Session.\n"
			]
		},
		{
			"cell_type": "markdown",
			"metadata": {
				"editable": true,
				"trusted": true
			},
			"source": [
				"#### Optional: Run this cell to see available notebook commands (\"magics\").\n"
			]
		},
		{
			"cell_type": "code",
			"execution_count": 2,
			"metadata": {
				"editable": true,
				"trusted": true,
				"vscode": {
					"languageId": "python_glue_session"
				}
			},
			"outputs": [
				{
					"name": "stdout",
					"output_type": "stream",
					"text": [
						"Welcome to the Glue Interactive Sessions Kernel\n",
						"For more information on available magic commands, please type %help in any new cell.\n",
						"\n",
						"Please view our Getting Started page to access the most up-to-date information on the Interactive Sessions kernel: https://docs.aws.amazon.com/glue/latest/dg/interactive-sessions.html\n",
						"Installed kernel version: 1.0.5 \n"
					]
				},
				{
					"data": {
						"text/markdown": [
							"\n",
							"# Available Magic Commands\n",
							"\n",
							"## Sessions Magic\n",
							"\n",
							"----\n",
							"    %help                             Return a list of descriptions and input types for all magic commands. \n",
							"    %profile            String        Specify a profile in your aws configuration to use as the credentials provider.\n",
							"    %region             String        Specify the AWS region in which to initialize a session. \n",
							"                                      Default from ~/.aws/config on Linux or macOS, \n",
							"                                      or C:\\Users\\ USERNAME \\.aws\\config\" on Windows.\n",
							"    %idle_timeout       Int           The number of minutes of inactivity after which a session will timeout. \n",
							"                                      Default: 2880 minutes (48 hours).\n",
							"    %timeout            Int           The number of minutes after which a session will timeout. \n",
							"                                      Default: 2880 minutes (48 hours).\n",
							"    %session_id_prefix  String        Define a String that will precede all session IDs in the format \n",
							"                                      [session_id_prefix]-[session_id]. If a session ID is not provided,\n",
							"                                      a random UUID will be generated.\n",
							"    %status                           Returns the status of the current Glue session including its duration, \n",
							"                                      configuration and executing user / role.\n",
							"    %session_id                       Returns the session ID for the running session.\n",
							"    %list_sessions                    Lists all currently running sessions by ID.\n",
							"    %stop_session                     Stops the current session.\n",
							"    %glue_version       String        The version of Glue to be used by this session. \n",
							"                                      Currently, the only valid options are 2.0, 3.0 and 4.0. \n",
							"                                      Default: 2.0.\n",
							"    %reconnect          String        Specify a live session ID to switch/reconnect to the sessions.\n",
							"----\n",
							"\n",
							"## Selecting Session Types\n",
							"\n",
							"----\n",
							"    %streaming          String        Sets the session type to Glue Streaming.\n",
							"    %etl                String        Sets the session type to Glue ETL.\n",
							"    %glue_ray           String        Sets the session type to Glue Ray.\n",
							"    %session_type       String        Specify a session_type to be used. Supported values: streaming, etl and glue_ray. \n",
							"----\n",
							"\n",
							"## Glue Config Magic \n",
							"*(common across all session types)*\n",
							"\n",
							"----\n",
							"\n",
							"    %%configure         Dictionary    A json-formatted dictionary consisting of all configuration parameters for \n",
							"                                      a session. Each parameter can be specified here or through individual magics.\n",
							"    %iam_role           String        Specify an IAM role ARN to execute your session with.\n",
							"                                      Default from ~/.aws/config on Linux or macOS, \n",
							"                                      or C:\\Users\\%USERNAME%\\.aws\\config` on Windows.\n",
							"    %number_of_workers  int           The number of workers of a defined worker_type that are allocated \n",
							"                                      when a session runs.\n",
							"                                      Default: 5.\n",
							"    %additional_python_modules  List  Comma separated list of additional Python modules to include in your cluster \n",
							"                                      (can be from Pypi or S3).\n",
							"    %%tags        Dictionary          Specify a json-formatted dictionary consisting of tags to use in the session.\n",
							"    \n",
							"    %%assume_role Dictionary, String  Specify a json-formatted dictionary or an IAM role ARN string to create a session \n",
							"                                      for cross account access.\n",
							"                                      E.g. {valid arn}\n",
							"                                      %%assume_role \n",
							"                                      'arn:aws:iam::XXXXXXXXXXXX:role/AWSGlueServiceRole' \n",
							"                                      E.g. {credentials}\n",
							"                                      %%assume_role\n",
							"                                      {\n",
							"                                            \"aws_access_key_id\" : \"XXXXXXXXXXXX\",\n",
							"                                            \"aws_secret_access_key\" : \"XXXXXXXXXXXX\",\n",
							"                                            \"aws_session_token\" : \"XXXXXXXXXXXX\"\n",
							"                                       }\n",
							"----\n",
							"\n",
							"                                      \n",
							"## Magic for Spark Sessions (ETL & Streaming)\n",
							"\n",
							"----\n",
							"    %worker_type        String        Set the type of instances the session will use as workers. \n",
							"    %connections        List          Specify a comma separated list of connections to use in the session.\n",
							"    %extra_py_files     List          Comma separated list of additional Python files From S3.\n",
							"    %extra_jars         List          Comma separated list of additional Jars to include in the cluster.\n",
							"    %spark_conf         String        Specify custom spark configurations for your session. \n",
							"                                      E.g. %spark_conf spark.serializer=org.apache.spark.serializer.KryoSerializer\n",
							"----\n",
							"                                      \n",
							"## Magic for Ray Session\n",
							"\n",
							"----\n",
							"    %min_workers        Int           The minimum number of workers that are allocated to a Ray session. \n",
							"                                      Default: 1.\n",
							"    %object_memory_head Int           The percentage of free memory on the instance head node after a warm start. \n",
							"                                      Minimum: 0. Maximum: 100.\n",
							"    %object_memory_worker Int         The percentage of free memory on the instance worker nodes after a warm start. \n",
							"                                      Minimum: 0. Maximum: 100.\n",
							"----\n",
							"\n",
							"## Action Magic\n",
							"\n",
							"----\n",
							"\n",
							"    %%sql               String        Run SQL code. All lines after the initial %%sql magic will be passed\n",
							"                                      as part of the SQL code.  \n",
							"    %matplot      Matplotlib figure   Visualize your data using the matplotlib library.\n",
							"                                      E.g. \n",
							"                                      import matplotlib.pyplot as plt\n",
							"                                      # Set X-axis and Y-axis values\n",
							"                                      x = [5, 2, 8, 4, 9]\n",
							"                                      y = [10, 4, 8, 5, 2]\n",
							"                                      # Create a bar chart \n",
							"                                      plt.bar(x, y) \n",
							"                                      # Show the plot\n",
							"                                      %matplot plt    \n",
							"    %plotly            Plotly figure  Visualize your data using the plotly library.\n",
							"                                      E.g.\n",
							"                                      import plotly.express as px\n",
							"                                      #Create a graphical figure\n",
							"                                      fig = px.line(x=[\"a\",\"b\",\"c\"], y=[1,3,2], title=\"sample figure\")\n",
							"                                      #Show the figure\n",
							"                                      %plotly fig\n",
							"\n",
							"  \n",
							"                \n",
							"----\n",
							"\n"
						]
					},
					"metadata": {},
					"output_type": "display_data"
				}
			],
			"source": [
				"%help"
			]
		},
		{
			"cell_type": "markdown",
			"metadata": {},
			"source": [
				"#### make sure you create a VPC endpoint, you can re-use the previous setup connection as the below "
			]
		},
		{
			"cell_type": "code",
			"execution_count": 2,
			"metadata": {
				"tags": [],
				"trusted": true,
				"vscode": {
					"languageId": "python_glue_session"
				}
			},
			"outputs": [
				{
					"name": "stdout",
					"output_type": "stream",
					"text": [
						"Welcome to the Glue Interactive Sessions Kernel\n",
						"For more information on available magic commands, please type %help in any new cell.\n",
						"\n",
						"Please view our Getting Started page to access the most up-to-date information on the Interactive Sessions kernel: https://docs.aws.amazon.com/glue/latest/dg/interactive-sessions.html\n",
						"Installed kernel version: 1.0.5 \n",
						"Connections to be included:\n",
						"redshift_serverless\n"
					]
				}
			],
			"source": [
				"%connections redshift_serverless"
			]
		},
		{
			"cell_type": "markdown",
			"metadata": {
				"editable": true,
				"trusted": true
			},
			"source": [
				"####  Run this cell to set up and start your interactive session.\n"
			]
		},
		{
			"cell_type": "code",
			"execution_count": 8,
			"metadata": {
				"tags": [],
				"trusted": true,
				"vscode": {
					"languageId": "python_glue_session"
				}
			},
			"outputs": [
				{
					"name": "stdout",
					"output_type": "stream",
					"text": [
						"Setting session ID prefix to demo\n",
						"Setting Glue version to: 4.0\n",
						"Current idle_timeout is None minutes.\n",
						"idle_timeout has been set to 60 minutes.\n",
						"Previous number of workers: None\n",
						"Setting new number of workers to: 2\n",
						"Previous worker type: None\n",
						"Setting new worker type to: G.1X\n"
					]
				}
			],
			"source": [
				"\n",
				"%session_id_prefix demo\n",
				"%glue_version 4.0\n",
				"%idle_timeout 60\n",
				"%number_of_workers 2\n",
				"%worker_type G.1X"
			]
		},
		{
			"cell_type": "code",
			"execution_count": 1,
			"metadata": {
				"editable": true,
				"trusted": true,
				"vscode": {
					"languageId": "python_glue_session"
				}
			},
			"outputs": [
				{
					"name": "stdout",
					"output_type": "stream",
					"text": [
						"Trying to create a Glue session for the kernel.\n",
						"Session Type: glueetl\n",
						"Worker Type: G.1X\n",
						"Number of Workers: 2\n",
						"Idle Timeout: 60\n",
						"Session ID: ae8a6d1c-a648-4450-8b5f-3717c0fce372\n",
						"Applying the following default arguments:\n",
						"--glue_kernel_version 1.0.5\n",
						"--enable-glue-datacatalog true\n",
						"Waiting for session ae8a6d1c-a648-4450-8b5f-3717c0fce372 to get into ready status...\n",
						"Session ae8a6d1c-a648-4450-8b5f-3717c0fce372 has been created.\n",
						"\n"
					]
				}
			],
			"source": [
				"import sys\n",
				"from awsglue.transforms import *\n",
				"from awsglue.utils import getResolvedOptions\n",
				"from pyspark.context import SparkContext\n",
				"from awsglue.context import GlueContext\n",
				"from awsglue.job import Job\n",
				"from pyspark.sql import SQLContext\n",
				"\n",
				"  \n",
				"sc = SparkContext.getOrCreate()\n",
				"glueContext = GlueContext(sc)\n",
				"spark = glueContext.spark_session\n",
				"job = Job(glueContext)"
			]
		},
		{
			"cell_type": "code",
			"execution_count": 2,
			"metadata": {
				"tags": [],
				"trusted": true,
				"vscode": {
					"languageId": "python_glue_session"
				}
			},
			"outputs": [
				{
					"name": "stdout",
					"output_type": "stream",
					"text": [
						"\n"
					]
				}
			],
			"source": [
				"redshift_properties = {\n",
				"    \"user\": \"admin\",\n",
				"    \"password\": \"your_password\",\n",
				"    \"driver\": \"com.amazon.redshift.jdbc.Driver\"\n",
				"}\n",
				"\n",
				"# Define Redshift connection URL\n",
				"redshift_url = \"jdbc:redshift:iam://<cluster name>:<region>/<database name>\"\n"
			]
		},
		{
			"cell_type": "code",
			"execution_count": 3,
			"metadata": {
				"tags": [],
				"trusted": true,
				"vscode": {
					"languageId": "python_glue_session"
				}
			},
			"outputs": [
				{
					"name": "stdout",
					"output_type": "stream",
					"text": [
						"\n"
					]
				}
			],
			"source": [
				"#note that the syntax is schema.table if schema is missing the default schema is public\n",
				"df = spark.read.jdbc(url=redshift_url, table=\"users\", properties=redshift_properties)\n"
			]
		},
		{
			"cell_type": "code",
			"execution_count": 10,
			"metadata": {
				"tags": [],
				"trusted": true,
				"vscode": {
					"languageId": "python_glue_session"
				}
			},
			"outputs": [
				{
					"name": "stdout",
					"output_type": "stream",
					"text": [
						"+-------+----------+---------+--------------------+--------------------+\n",
						"|user_id|first_name|last_name|               email|          created_at|\n",
						"+-------+----------+---------+--------------------+--------------------+\n",
						"|      1|      John|      Doe|john.doe@example.com|2024-09-23 16:08:...|\n",
						"|      2|      Jane|    Smith|jane.smith@exampl...|2024-09-23 16:08:...|\n",
						"|      3|   Michael|  Johnson|michael.j@example...|2024-09-23 16:08:...|\n",
						"+-------+----------+---------+--------------------+--------------------+\n"
					]
				}
			],
			"source": [
				"df.show()"
			]
		},
		{
			"cell_type": "code",
			"execution_count": 5,
			"metadata": {
				"tags": [],
				"trusted": true,
				"vscode": {
					"languageId": "python_glue_session"
				}
			},
			"outputs": [
				{
					"name": "stdout",
					"output_type": "stream",
					"text": [
						"\n"
					]
				}
			],
			"source": [
				"df.createOrReplaceTempView(\"users\")"
			]
		},
		{
			"cell_type": "code",
			"execution_count": null,
			"metadata": {
				"tags": [],
				"trusted": true,
				"vscode": {
					"languageId": "python_glue_session"
				}
			},
			"outputs": [],
			"source": [
				"spark.sql(\"\"\"\n",
				"INSERT INTO public.users (first_name, last_name, email)\n",
				"   SELECT 'John' AS first_name, 'Doe' AS last_name, 'john.doe@example.com' AS email\n",
				"   UNION ALL\n",
				"   SELECT 'Jane', 'Smith', 'jane.smith@example.com'\n",
				"   UNION ALL\n",
				"   SELECT 'Bob', 'Johnson', 'bob.johnson@example.com'\n",
				"   \"\"\")\n"
			]
		},
		{
			"cell_type": "code",
			"execution_count": null,
			"metadata": {
				"vscode": {
					"languageId": "python_glue_session"
				}
			},
			"outputs": [],
			"source": [
				"# Write back to Redshift\n",
				"df.write.jdbc(url=redshift_url, table=\"trandata\", mode=\"overwrite\", properties=redshift_properties)\n",
				"\n",
				"job.commit()"
			]
		},
		{
			"cell_type": "code",
			"execution_count": 3,
			"metadata": {
				"tags": [],
				"trusted": true,
				"vscode": {
					"languageId": "python_glue_session"
				}
			},
			"outputs": [
				{
					"name": "stdout",
					"output_type": "stream",
					"text": [
						"\n"
					]
				}
			],
			"source": [
				"df = spark.read.jdbc(url=redshift_url, table='\"public\".\"users\"', properties=redshift_properties)"
			]
		},
		{
			"cell_type": "code",
			"execution_count": null,
			"metadata": {
				"editable": true,
				"trusted": true,
				"vscode": {
					"languageId": "python_glue_session"
				}
			},
			"outputs": [],
			"source": [
				"s3output = glueContext.getSink(\n",
				"  path=\"s3://bucket_name/folder_name\",\n",
				"  connection_type=\"s3\",\n",
				"  updateBehavior=\"UPDATE_IN_DATABASE\",\n",
				"  partitionKeys=[],\n",
				"  compression=\"snappy\",\n",
				"  enableUpdateCatalog=True,\n",
				"  transformation_ctx=\"s3output\",\n",
				")\n",
				"s3output.setCatalogInfo(\n",
				"  catalogDatabase=\"demo\", catalogTableName=\"populations\"\n",
				")\n",
				"s3output.setFormat(\"glueparquet\")\n",
				"s3output.writeFrame(DyF)"
			]
		}
	],
	"metadata": {
		"kernelspec": {
			"display_name": "Glue PySpark",
			"language": "python",
			"name": "glue_pyspark"
		},
		"language_info": {
			"codemirror_mode": {
				"name": "python",
				"version": 3
			},
			"file_extension": ".py",
			"mimetype": "text/x-python",
			"name": "Python_Glue_Session",
			"pygments_lexer": "python3"
		}
	},
	"nbformat": 4,
	"nbformat_minor": 4
}
