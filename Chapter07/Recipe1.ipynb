{
	"cells": [
		{
			"cell_type": "markdown",
			"metadata": {
				"editable": true,
				"trusted": true
			},
			"source": [
				"# AWS Glue Studio Notebook\n",
				"##### You are now running a AWS Glue Studio notebook; To start using your notebook you need to start an AWS Glue Interactive Session.\n"
			]
		},
		{
			"cell_type": "markdown",
			"metadata": {
				"editable": true,
				"trusted": true
			},
			"source": [
				"#### Optional: Run this cell to see available notebook commands (\"magics\").\n"
			]
		},
		{
			"cell_type": "code",
			"execution_count": 4,
			"metadata": {
				"editable": true,
				"trusted": true,
				"vscode": {
					"languageId": "python_glue_session"
				}
			},
			"outputs": [
				{
					"data": {
						"text/markdown": [
							"\n",
							"# Available Magic Commands\n",
							"\n",
							"## Sessions Magic\n",
							"\n",
							"----\n",
							"    %help                             Return a list of descriptions and input types for all magic commands. \n",
							"    %profile            String        Specify a profile in your aws configuration to use as the credentials provider.\n",
							"    %region             String        Specify the AWS region in which to initialize a session. \n",
							"                                      Default from ~/.aws/config on Linux or macOS, \n",
							"                                      or C:\\Users\\ USERNAME \\.aws\\config\" on Windows.\n",
							"    %idle_timeout       Int           The number of minutes of inactivity after which a session will timeout. \n",
							"                                      Default: 2880 minutes (48 hours).\n",
							"    %timeout            Int           The number of minutes after which a session will timeout. \n",
							"                                      Default: 2880 minutes (48 hours).\n",
							"    %session_id_prefix  String        Define a String that will precede all session IDs in the format \n",
							"                                      [session_id_prefix]-[session_id]. If a session ID is not provided,\n",
							"                                      a random UUID will be generated.\n",
							"    %status                           Returns the status of the current Glue session including its duration, \n",
							"                                      configuration and executing user / role.\n",
							"    %session_id                       Returns the session ID for the running session.\n",
							"    %list_sessions                    Lists all currently running sessions by ID.\n",
							"    %stop_session                     Stops the current session.\n",
							"    %glue_version       String        The version of Glue to be used by this session. \n",
							"                                      Currently, the only valid options are 2.0, 3.0 and 4.0. \n",
							"                                      Default: 2.0.\n",
							"    %reconnect          String        Specify a live session ID to switch/reconnect to the sessions.\n",
							"----\n",
							"\n",
							"## Selecting Session Types\n",
							"\n",
							"----\n",
							"    %streaming          String        Sets the session type to Glue Streaming.\n",
							"    %etl                String        Sets the session type to Glue ETL.\n",
							"    %glue_ray           String        Sets the session type to Glue Ray.\n",
							"    %session_type       String        Specify a session_type to be used. Supported values: streaming, etl and glue_ray. \n",
							"----\n",
							"\n",
							"## Glue Config Magic \n",
							"*(common across all session types)*\n",
							"\n",
							"----\n",
							"\n",
							"    %%configure         Dictionary    A json-formatted dictionary consisting of all configuration parameters for \n",
							"                                      a session. Each parameter can be specified here or through individual magics.\n",
							"    %iam_role           String        Specify an IAM role ARN to execute your session with.\n",
							"                                      Default from ~/.aws/config on Linux or macOS, \n",
							"                                      or C:\\Users\\%USERNAME%\\.aws\\config` on Windows.\n",
							"    %number_of_workers  int           The number of workers of a defined worker_type that are allocated \n",
							"                                      when a session runs.\n",
							"                                      Default: 5.\n",
							"    %additional_python_modules  List  Comma separated list of additional Python modules to include in your cluster \n",
							"                                      (can be from Pypi or S3).\n",
							"    %%tags        Dictionary          Specify a json-formatted dictionary consisting of tags to use in the session.\n",
							"    \n",
							"    %%assume_role Dictionary, String  Specify a json-formatted dictionary or an IAM role ARN string to create a session \n",
							"                                      for cross account access.\n",
							"                                      E.g. {valid arn}\n",
							"                                      %%assume_role \n",
							"                                      'arn:aws:iam::XXXXXXXXXXXX:role/AWSGlueServiceRole' \n",
							"                                      E.g. {credentials}\n",
							"                                      %%assume_role\n",
							"                                      {\n",
							"                                            \"aws_access_key_id\" : \"XXXXXXXXXXXX\",\n",
							"                                            \"aws_secret_access_key\" : \"XXXXXXXXXXXX\",\n",
							"                                            \"aws_session_token\" : \"XXXXXXXXXXXX\"\n",
							"                                       }\n",
							"----\n",
							"\n",
							"                                      \n",
							"## Magic for Spark Sessions (ETL & Streaming)\n",
							"\n",
							"----\n",
							"    %worker_type        String        Set the type of instances the session will use as workers. \n",
							"    %connections        List          Specify a comma separated list of connections to use in the session.\n",
							"    %extra_py_files     List          Comma separated list of additional Python files From S3.\n",
							"    %extra_jars         List          Comma separated list of additional Jars to include in the cluster.\n",
							"    %spark_conf         String        Specify custom spark configurations for your session. \n",
							"                                      E.g. %spark_conf spark.serializer=org.apache.spark.serializer.KryoSerializer\n",
							"----\n",
							"                                      \n",
							"## Magic for Ray Session\n",
							"\n",
							"----\n",
							"    %min_workers        Int           The minimum number of workers that are allocated to a Ray session. \n",
							"                                      Default: 1.\n",
							"    %object_memory_head Int           The percentage of free memory on the instance head node after a warm start. \n",
							"                                      Minimum: 0. Maximum: 100.\n",
							"    %object_memory_worker Int         The percentage of free memory on the instance worker nodes after a warm start. \n",
							"                                      Minimum: 0. Maximum: 100.\n",
							"----\n",
							"\n",
							"## Action Magic\n",
							"\n",
							"----\n",
							"\n",
							"    %%sql               String        Run SQL code. All lines after the initial %%sql magic will be passed\n",
							"                                      as part of the SQL code.  \n",
							"    %matplot      Matplotlib figure   Visualize your data using the matplotlib library.\n",
							"                                      E.g. \n",
							"                                      import matplotlib.pyplot as plt\n",
							"                                      # Set X-axis and Y-axis values\n",
							"                                      x = [5, 2, 8, 4, 9]\n",
							"                                      y = [10, 4, 8, 5, 2]\n",
							"                                      # Create a bar chart \n",
							"                                      plt.bar(x, y) \n",
							"                                      # Show the plot\n",
							"                                      %matplot plt    \n",
							"    %plotly            Plotly figure  Visualize your data using the plotly library.\n",
							"                                      E.g.\n",
							"                                      import plotly.express as px\n",
							"                                      #Create a graphical figure\n",
							"                                      fig = px.line(x=[\"a\",\"b\",\"c\"], y=[1,3,2], title=\"sample figure\")\n",
							"                                      #Show the figure\n",
							"                                      %plotly fig\n",
							"\n",
							"  \n",
							"                \n",
							"----\n",
							"\n"
						]
					},
					"metadata": {},
					"output_type": "display_data"
				}
			],
			"source": [
				"%help"
			]
		},
		{
			"cell_type": "markdown",
			"metadata": {
				"editable": true,
				"trusted": true
			},
			"source": [
				"####  Run this cell to set up and start your interactive session.\n"
			]
		},
		{
			"cell_type": "code",
			"execution_count": 1,
			"metadata": {
				"editable": true,
				"trusted": true,
				"vscode": {
					"languageId": "python_glue_session"
				}
			},
			"outputs": [
				{
					"name": "stdout",
					"output_type": "stream",
					"text": [
						"Welcome to the Glue Interactive Sessions Kernel\n",
						"For more information on available magic commands, please type %help in any new cell.\n",
						"\n",
						"Please view our Getting Started page to access the most up-to-date information on the Interactive Sessions kernel: https://docs.aws.amazon.com/glue/latest/dg/interactive-sessions.html\n",
						"Installed kernel version: 1.0.5 \n",
						"Current idle_timeout is None minutes.\n",
						"idle_timeout has been set to 500 minutes.\n",
						"Setting Glue version to: 4.0\n",
						"Previous worker type: None\n",
						"Setting new worker type to: G.1X\n",
						"Previous number of workers: None\n",
						"Setting new number of workers to: 2\n",
						"Trying to create a Glue session for the kernel.\n",
						"Session Type: glueetl\n",
						"Worker Type: G.1X\n",
						"Number of Workers: 2\n",
						"Idle Timeout: 500\n",
						"Session ID: 9ae5ab1a-2d8f-4b23-9aa8-f237e77cca85\n",
						"Applying the following default arguments:\n",
						"--glue_kernel_version 1.0.5\n",
						"--enable-glue-datacatalog true\n",
						"Waiting for session 9ae5ab1a-2d8f-4b23-9aa8-f237e77cca85 to get into ready status...\n",
						"Session 9ae5ab1a-2d8f-4b23-9aa8-f237e77cca85 has been created.\n",
						"\n"
					]
				}
			],
			"source": [
				"%idle_timeout 500\n",
				"%glue_version 4.0\n",
				"%worker_type G.1X\n",
				"%number_of_workers 2\n",
				"\n",
				"import sys\n",
				"from awsglue.transforms import *\n",
				"from awsglue.utils import getResolvedOptions\n",
				"from pyspark.context import SparkContext\n",
				"from awsglue.context import GlueContext\n",
				"from awsglue.job import Job\n",
				"from awsglue.dynamicframe import DynamicFrame\n",
				"\n",
				"from awsgluedq.transforms import *\n",
				"\n",
				"sc = SparkContext.getOrCreate()\n",
				"glueContext = GlueContext(sc)\n"
			]
		},
		{
			"cell_type": "code",
			"execution_count": 3,
			"metadata": {
				"tags": [],
				"trusted": true,
				"vscode": {
					"languageId": "python_glue_session"
				}
			},
			"outputs": [
				{
					"name": "stdout",
					"output_type": "stream",
					"text": [
						"\n"
					]
				}
			],
			"source": [
				"input_path1=\"s3://sample-test-wf09/star_wars_characters.csv\""
			]
		},
		{
			"cell_type": "code",
			"execution_count": 4,
			"metadata": {
				"tags": [],
				"trusted": true,
				"vscode": {
					"languageId": "python_glue_session"
				}
			},
			"outputs": [
				{
					"name": "stdout",
					"output_type": "stream",
					"text": [
						"\n"
					]
				}
			],
			"source": [
				"# Script generated  main dataframe\n",
				"df_main = glueContext.create_dynamic_frame.from_options(\n",
				"    connection_type=\"s3\",\n",
				"    format_options={\"quoteChar\": \"\\\"\", \n",
				"                    \"withHeader\": True, \n",
				"                    \"separator\": \",\"},\n",
				"    connection_options={\n",
				"        \"paths\": [\"s3://sample-test-wf09/star_wars_characters.csv\"],\n",
				"        \"recurse\": True,\n",
				"        \n",
				"    },\n",
				"    format=\"csv\",\n",
				"    transformation_ctx=\"main\",\n",
				")\n",
				"\n",
				"\n",
				"\n",
				"# Script generated for  reference dataframe\n",
				"df_reference = glueContext.create_dynamic_frame.from_options(\n",
				"    connection_type=\"s3\",\n",
				"    format_options={\"quoteChar\": \"\\\"\", \n",
				"                    \"withHeader\": True, \n",
				"                    \"separator\": \",\"},\n",
				"    connection_options={\n",
				"        \"paths\": [\"s3://sample-test-wf09/star_wars_characters.csv\"],\n",
				"    },\n",
				"    format=\"csv\",\n",
				"    transformation_ctx=\"reference\",\n",
				")\n"
			]
		},
		{
			"cell_type": "code",
			"execution_count": 5,
			"metadata": {
				"tags": [],
				"trusted": true,
				"vscode": {
					"languageId": "python_glue_session"
				}
			},
			"outputs": [
				{
					"name": "stdout",
					"output_type": "stream",
					"text": [
						"{\"name\": \"Luke Skywalker\", \"height\": \"172\", \"mass\": \"77\", \"hair_color\": \"blond\", \"skin_color\": \"fair\", \"eye_color\": \"blue\", \"birth_year\": \"19\", \"sex\": \"male\", \"gender\": \"masculine\", \"homeworld\": \"Tatooine\", \"species\": \"Human\", \"films\": \"A New Hope, The Empire Strikes Back, Return of the Jedi, Revenge of the Sith, The Force Awakens\", \"vehicles\": \"Snowspeeder, Imperial Speeder Bike\", \"starships\": \"X-wing, Imperial shuttle\"}\n",
						"{\"name\": \"C-3PO\", \"height\": \"167\", \"mass\": \"75\", \"hair_color\": \"NA\", \"skin_color\": \"gold\", \"eye_color\": \"yellow\", \"birth_year\": \"112\", \"sex\": \"none\", \"gender\": \"masculine\", \"homeworld\": \"Tatooine\", \"species\": \"Droid\", \"films\": \"A New Hope, The Empire Strikes Back, Return of the Jedi, The Phantom Menace, Attack of the Clones, Revenge of the Sith\", \"vehicles\": \"\", \"starships\": \"\"}\n",
						"{\"name\": \"R2-D2\", \"height\": \"96\", \"mass\": \"32\", \"hair_color\": \"NA\", \"skin_color\": \"white, blue\", \"eye_color\": \"red\", \"birth_year\": \"33\", \"sex\": \"none\", \"gender\": \"masculine\", \"homeworld\": \"Naboo\", \"species\": \"Droid\", \"films\": \"A New Hope, The Empire Strikes Back, Return of the Jedi, The Phantom Menace, Attack of the Clones, Revenge of the Sith, The Force Awakens\", \"vehicles\": \"\", \"starships\": \"\"}\n",
						"{\"name\": \"Darth Vader\", \"height\": \"202\", \"mass\": \"136\", \"hair_color\": \"none\", \"skin_color\": \"white\", \"eye_color\": \"yellow\", \"birth_year\": \"41.9\", \"sex\": \"male\", \"gender\": \"masculine\", \"homeworld\": \"Tatooine\", \"species\": \"Human\", \"films\": \"A New Hope, The Empire Strikes Back, Return of the Jedi, Revenge of the Sith\", \"vehicles\": \"\", \"starships\": \"TIE Advanced x1\"}\n",
						"{\"name\": \"Leia Organa\", \"height\": \"150\", \"mass\": \"49\", \"hair_color\": \"brown\", \"skin_color\": \"light\", \"eye_color\": \"brown\", \"birth_year\": \"19\", \"sex\": \"female\", \"gender\": \"feminine\", \"homeworld\": \"Alderaan\", \"species\": \"Human\", \"films\": \"A New Hope, The Empire Strikes Back, Return of the Jedi, Revenge of the Sith, The Force Awakens\", \"vehicles\": \"Imperial Speeder Bike\", \"starships\": \"\"}\n",
						"{\"name\": \"Owen Lars\", \"height\": \"178\", \"mass\": \"120\", \"hair_color\": \"brown, grey\", \"skin_color\": \"light\", \"eye_color\": \"blue\", \"birth_year\": \"52\", \"sex\": \"male\", \"gender\": \"masculine\", \"homeworld\": \"Tatooine\", \"species\": \"Human\", \"films\": \"A New Hope, Attack of the Clones, Revenge of the Sith\", \"vehicles\": \"\", \"starships\": \"\"}\n",
						"{\"name\": \"Beru Whitesun Lars\", \"height\": \"165\", \"mass\": \"75\", \"hair_color\": \"brown\", \"skin_color\": \"light\", \"eye_color\": \"blue\", \"birth_year\": \"47\", \"sex\": \"female\", \"gender\": \"feminine\", \"homeworld\": \"Tatooine\", \"species\": \"Human\", \"films\": \"A New Hope, Attack of the Clones, Revenge of the Sith\", \"vehicles\": \"\", \"starships\": \"\"}\n",
						"{\"name\": \"R5-D4\", \"height\": \"97\", \"mass\": \"32\", \"hair_color\": \"NA\", \"skin_color\": \"white, red\", \"eye_color\": \"red\", \"birth_year\": \"NA\", \"sex\": \"none\", \"gender\": \"masculine\", \"homeworld\": \"Tatooine\", \"species\": \"Droid\", \"films\": \"A New Hope\", \"vehicles\": \"\", \"starships\": \"\"}\n",
						"{\"name\": \"Biggs Darklighter\", \"height\": \"183\", \"mass\": \"84\", \"hair_color\": \"black\", \"skin_color\": \"light\", \"eye_color\": \"brown\", \"birth_year\": \"24\", \"sex\": \"male\", \"gender\": \"masculine\", \"homeworld\": \"Tatooine\", \"species\": \"Human\", \"films\": \"A New Hope\", \"vehicles\": \"\", \"starships\": \"X-wing\"}\n",
						"{\"name\": \"Obi-Wan Kenobi\", \"height\": \"182\", \"mass\": \"77\", \"hair_color\": \"auburn, white\", \"skin_color\": \"fair\", \"eye_color\": \"blue-gray\", \"birth_year\": \"57\", \"sex\": \"male\", \"gender\": \"masculine\", \"homeworld\": \"Stewjon\", \"species\": \"Human\", \"films\": \"A New Hope, The Empire Strikes Back, Return of the Jedi, The Phantom Menace, Attack of the Clones, Revenge of the Sith\", \"vehicles\": \"Tribubble bongo\", \"starships\": \"Jedi starfighter, Trade Federation cruiser, Naboo star skiff, Jedi Interceptor, Belbullab-22 starfighter\"}\n",
						"{\"name\": \"Anakin Skywalker\", \"height\": \"188\", \"mass\": \"84\", \"hair_color\": \"blond\", \"skin_color\": \"fair\", \"eye_color\": \"blue\", \"birth_year\": \"41.9\", \"sex\": \"male\", \"gender\": \"masculine\", \"homeworld\": \"Tatooine\", \"species\": \"Human\", \"films\": \"The Phantom Menace, Attack of the Clones, Revenge of the Sith\", \"vehicles\": \"Zephyr-G swoop bike, XJ-6 airspeeder\", \"starships\": \"Naboo fighter, Trade Federation cruiser, Jedi Interceptor\"}\n",
						"{\"name\": \"Wilhuff Tarkin\", \"height\": \"180\", \"mass\": \"NA\", \"hair_color\": \"auburn, grey\", \"skin_color\": \"fair\", \"eye_color\": \"blue\", \"birth_year\": \"64\", \"sex\": \"male\", \"gender\": \"masculine\", \"homeworld\": \"Eriadu\", \"species\": \"Human\", \"films\": \"A New Hope, Revenge of the Sith\", \"vehicles\": \"\", \"starships\": \"\"}\n",
						"{\"name\": \"Chewbacca\", \"height\": \"228\", \"mass\": \"112\", \"hair_color\": \"brown\", \"skin_color\": \"unknown\", \"eye_color\": \"blue\", \"birth_year\": \"200\", \"sex\": \"male\", \"gender\": \"masculine\", \"homeworld\": \"Kashyyyk\", \"species\": \"Wookiee\", \"films\": \"A New Hope, The Empire Strikes Back, Return of the Jedi, Revenge of the Sith, The Force Awakens\", \"vehicles\": \"AT-ST\", \"starships\": \"Millennium Falcon, Imperial shuttle\"}\n",
						"{\"name\": \"Han Solo\", \"height\": \"180\", \"mass\": \"80\", \"hair_color\": \"brown\", \"skin_color\": \"fair\", \"eye_color\": \"brown\", \"birth_year\": \"29\", \"sex\": \"male\", \"gender\": \"masculine\", \"homeworld\": \"Corellia\", \"species\": \"Human\", \"films\": \"A New Hope, The Empire Strikes Back, Return of the Jedi, The Force Awakens\", \"vehicles\": \"\", \"starships\": \"Millennium Falcon, Imperial shuttle\"}\n",
						"{\"name\": \"Greedo\", \"height\": \"173\", \"mass\": \"74\", \"hair_color\": \"NA\", \"skin_color\": \"green\", \"eye_color\": \"black\", \"birth_year\": \"44\", \"sex\": \"male\", \"gender\": \"masculine\", \"homeworld\": \"Rodia\", \"species\": \"Rodian\", \"films\": \"A New Hope\", \"vehicles\": \"\", \"starships\": \"\"}\n",
						"{\"name\": \"Jabba Desilijic Tiure\", \"height\": \"175\", \"mass\": \"1358\", \"hair_color\": \"NA\", \"skin_color\": \"green-tan, brown\", \"eye_color\": \"orange\", \"birth_year\": \"600\", \"sex\": \"hermaphroditic\", \"gender\": \"masculine\", \"homeworld\": \"Nal Hutta\", \"species\": \"Hutt\", \"films\": \"A New Hope, Return of the Jedi, The Phantom Menace\", \"vehicles\": \"\", \"starships\": \"\"}\n",
						"{\"name\": \"Wedge Antilles\", \"height\": \"170\", \"mass\": \"77\", \"hair_color\": \"brown\", \"skin_color\": \"fair\", \"eye_color\": \"hazel\", \"birth_year\": \"21\", \"sex\": \"male\", \"gender\": \"masculine\", \"homeworld\": \"Corellia\", \"species\": \"Human\", \"films\": \"A New Hope, The Empire Strikes Back, Return of the Jedi\", \"vehicles\": \"Snowspeeder\", \"starships\": \"X-wing\"}\n",
						"{\"name\": \"Jek Tono Porkins\", \"height\": \"180\", \"mass\": \"110\", \"hair_color\": \"brown\", \"skin_color\": \"fair\", \"eye_color\": \"blue\", \"birth_year\": \"NA\", \"sex\": \"NA\", \"gender\": \"NA\", \"homeworld\": \"Bestine IV\", \"species\": \"NA\", \"films\": \"A New Hope\", \"vehicles\": \"\", \"starships\": \"X-wing\"}\n",
						"{\"name\": \"Yoda\", \"height\": \"66\", \"mass\": \"17\", \"hair_color\": \"white\", \"skin_color\": \"green\", \"eye_color\": \"brown\", \"birth_year\": \"896\", \"sex\": \"male\", \"gender\": \"masculine\", \"homeworld\": \"NA\", \"species\": \"Yoda's species\", \"films\": \"The Empire Strikes Back, Return of the Jedi, The Phantom Menace, Attack of the Clones, Revenge of the Sith\", \"vehicles\": \"\", \"starships\": \"\"}\n",
						"{\"name\": \"Palpatine\", \"height\": \"170\", \"mass\": \"75\", \"hair_color\": \"grey\", \"skin_color\": \"pale\", \"eye_color\": \"yellow\", \"birth_year\": \"82\", \"sex\": \"male\", \"gender\": \"masculine\", \"homeworld\": \"Naboo\", \"species\": \"Human\", \"films\": \"The Empire Strikes Back, Return of the Jedi, The Phantom Menace, Attack of the Clones, Revenge of the Sith\", \"vehicles\": \"\", \"starships\": \"\"}\n"
					]
				}
			],
			"source": [
				"df_main.show()"
			]
		},
		{
			"cell_type": "code",
			"execution_count": 14,
			"metadata": {
				"tags": [],
				"trusted": true,
				"vscode": {
					"languageId": "python_glue_session"
				}
			},
			"outputs": [
				{
					"name": "stdout",
					"output_type": "stream",
					"text": [
						"\n"
					]
				}
			],
			"source": [
				"# Script generated for Evaluate Data Quality\n",
				"\n",
				"EvaluateDataQualityRule = \"\"\"\n",
				"    Rules = [RowCount = 42,\n",
				"             ColumnCount = 14,\n",
				"             ReferentialIntegrity \"homeworld\" \"reference.homeworld\" = 1, \n",
				"             ReferentialIntegrity \" species\" \"reference.species\" = 1\n",
				"             ]\n",
				"\n",
				"\"\"\"\n",
				"EvaluateDataQuality_additional_sources = {\n",
				"    \"reference\": df_reference\n",
				"}\n",
				"\n"
			]
		},
		{
			"cell_type": "code",
			"execution_count": 15,
			"metadata": {
				"tags": [],
				"trusted": true,
				"vscode": {
					"languageId": "python_glue_session"
				}
			},
			"outputs": [
				{
					"name": "stdout",
					"output_type": "stream",
					"text": [
						"\n"
					]
				}
			],
			"source": [
				"EvaluateDataQuality_output = EvaluateDataQuality().process_rows(\n",
				"    frame= df_main, \n",
				"    additional_data_sources=EvaluateDataQuality_additional_sources,\n",
				"    ruleset= EvaluateDataQualityRule, \n",
				"    publishing_options={\n",
				"        'enableDataQualityResultsPublishing': False,\n",
				"        \"dataQualityEvaluationContext\": \"EvaluateDataQuality\",\n",
				"    },\n",
				"    additional_options={\"observations.scope\": \"ALL\",\"performanceTuning.caching\": \"CACHE_NOTHING\"})\n"
			]
		},
		{
			"cell_type": "code",
			"execution_count": 21,
			"metadata": {
				"tags": [],
				"trusted": true,
				"vscode": {
					"languageId": "python_glue_session"
				}
			},
			"outputs": [
				{
					"name": "stdout",
					"output_type": "stream",
					"text": [
						"\n"
					]
				}
			],
			"source": [
				"ruleOutcomes = SelectFromCollection.apply(\n",
				"    dfc=EvaluateDataQuality_output,\n",
				"    key=\"ruleOutcomes\",\n",
				"    transformation_ctx=\"ruleOutcomes\",\n",
				").toDF()\n"
			]
		},
		{
			"cell_type": "code",
			"execution_count": 22,
			"metadata": {
				"tags": [],
				"trusted": true,
				"vscode": {
					"languageId": "python_glue_session"
				}
			},
			"outputs": [
				{
					"name": "stdout",
					"output_type": "stream",
					"text": [
						"+--------------------+-------+--------------------+--------------------+--------------------+\n",
						"|                Rule|Outcome|       FailureReason|    EvaluatedMetrics|       EvaluatedRule|\n",
						"+--------------------+-------+--------------------+--------------------+--------------------+\n",
						"|       RowCount = 42| Failed|Value: 87 does no...|{Dataset.*.RowCou...|       RowCount = 42|\n",
						"|    ColumnCount = 14| Passed|                null|{Dataset.*.Column...|    ColumnCount = 14|\n",
						"|ReferentialIntegr...| Passed|                null|{Column.reference...|ReferentialIntegr...|\n",
						"|ReferentialIntegr...| Passed|                null|{Column.reference...|ReferentialIntegr...|\n",
						"+--------------------+-------+--------------------+--------------------+--------------------+\n"
					]
				}
			],
			"source": [
				"ruleOutcomes.show()"
			]
		},
		{
			"cell_type": "code",
			"execution_count": 23,
			"metadata": {
				"tags": [],
				"trusted": true,
				"vscode": {
					"languageId": "python_glue_session"
				}
			},
			"outputs": [
				{
					"name": "stdout",
					"output_type": "stream",
					"text": [
						"AssertionError: The job failed due to failing DQ rules\n"
					]
				}
			],
			"source": [
				"assert EvaluateDataQuality_output[EvaluateDataQuality.DATA_QUALITY_RULE_OUTCOMES_KEY].filter(lambda x: x[\"Outcome\"] == \"Failed\").count() == 0, \"The job failed due to failing DQ rules\""
			]
		},
		{
			"cell_type": "code",
			"execution_count": 26,
			"metadata": {
				"tags": [],
				"trusted": true,
				"vscode": {
					"languageId": "python_glue_session"
				}
			},
			"outputs": [
				{
					"name": "stdout",
					"output_type": "stream",
					"text": [
						"\n"
					]
				}
			],
			"source": [
				"# Script generated for rowLevelOutcomes and ruleOutcomes\n",
				"rowLevelOutcomes = SelectFromCollection.apply(dfc=EvaluateDataQuality_output, key=\"rowLevelOutcomes\", transformation_ctx=\" rowLevelOutcomes_data\").toDF()\n"
			]
		},
		{
			"cell_type": "code",
			"execution_count": 27,
			"metadata": {
				"tags": [],
				"trusted": true,
				"vscode": {
					"languageId": "python_glue_session"
				}
			},
			"outputs": [
				{
					"name": "stdout",
					"output_type": "stream",
					"text": [
						"+--------------------+------+----+----------+-------------------+-------------+----------+------+---------+--------------+---------+--------------------+--------------------+--------------------+--------------------+--------------------+--------------------+---------------------------+\n",
						"|                name|height|mass|hair_color|         skin_color|    eye_color|birth_year|   sex|   gender|     homeworld|  species|               films|            vehicles|           starships|DataQualityRulesPass|DataQualityRulesFail|DataQualityRulesSkip|DataQualityEvaluationResult|\n",
						"+--------------------+------+----+----------+-------------------+-------------+----------+------+---------+--------------+---------+--------------------+--------------------+--------------------+--------------------+--------------------+--------------------+---------------------------+\n",
						"|     Dexter Jettster|   198| 102|      none|              brown|       yellow|        NA|  male|masculine|          Ojom| Besalisk|Attack of the Clones|                    |                    |[ReferentialInteg...|                  []|[RowCount = 42, C...|                     Passed|\n",
						"|          Zam Wesell|   168|  55|    blonde|fair, green, yellow|       yellow|        NA|female| feminine|         Zolan| Clawdite|Attack of the Clones|Koro-2 Exodrive a...|                    |[ReferentialInteg...|                  []|[RowCount = 42, C...|                     Passed|\n",
						"|         Nute Gunray|   191|  90|      none|      mottled green|          red|        NA|  male|masculine|Cato Neimoidia|Neimodian|The Phantom Menac...|                    |                    |[ReferentialInteg...|                  []|[RowCount = 42, C...|                     Passed|\n",
						"|        Ratts Tyerel|    79|  15|      none|         grey, blue|      unknown|        NA|  male|masculine|   Aleen Minor|   Aleena|  The Phantom Menace|                    |                    |[ReferentialInteg...|                  []|[RowCount = 42, C...|                     Passed|\n",
						"|          Tion Medon|   206|  80|      none|               grey|        black|        NA|  male|masculine|        Utapau|   Pau'an| Revenge of the Sith|                    |                    |[ReferentialInteg...|                  []|[RowCount = 42, C...|                     Passed|\n",
						"|         Bib Fortuna|   180|  NA|      none|               pale|         pink|        NA|  male|masculine|        Ryloth|  Twi'lek|  Return of the Jedi|                    |                    |[ReferentialInteg...|                  []|[RowCount = 42, C...|                     Passed|\n",
						"|         Ayla Secura|   178|  55|      none|               blue|        hazel|        48|female| feminine|        Ryloth|  Twi'lek|The Phantom Menac...|                    |                    |[ReferentialInteg...|                  []|[RowCount = 42, C...|                     Passed|\n",
						"|           Eeth Koth|   171|  NA|     black|              brown|        brown|        NA|  male|masculine|      Iridonia|   Zabrak|The Phantom Menac...|                    |                    |[ReferentialInteg...|                  []|[RowCount = 42, C...|                     Passed|\n",
						"|          Darth Maul|   175|  80|      none|                red|       yellow|        54|  male|masculine|      Dathomir|   Zabrak|  The Phantom Menace|        Sith speeder|            Scimitar|[ReferentialInteg...|                  []|[RowCount = 42, C...|                     Passed|\n",
						"|        Ki-Adi-Mundi|   198|  82|     white|               pale|       yellow|        92|  male|masculine|         Cerea|   Cerean|The Phantom Menac...|                    |                    |[ReferentialInteg...|                  []|[RowCount = 42, C...|                     Passed|\n",
						"|          Mas Amedda|   196|  NA|      none|               blue|         blue|        NA|  male|masculine|      Champala| Chagrian|The Phantom Menac...|                    |                    |[ReferentialInteg...|                  []|[RowCount = 42, C...|                     Passed|\n",
						"|               IG-88|   200| 140|      none|              metal|          red|        15|  none|masculine|            NA|    Droid|The Empire Strike...|                    |                    |[ReferentialInteg...|                  []|[RowCount = 42, C...|                     Passed|\n",
						"|              R4-P17|    96|  NA|      none|        silver, red|    red, blue|        NA|  none| feminine|            NA|    Droid|Attack of the Clo...|                    |                    |[ReferentialInteg...|                  []|[RowCount = 42, C...|                     Passed|\n",
						"|                 BB8|    NA|  NA|      none|               none|        black|        NA|  none|masculine|            NA|    Droid|   The Force Awakens|                    |                    |[ReferentialInteg...|                  []|[RowCount = 42, C...|                     Passed|\n",
						"|               R2-D2|    96|  32|        NA|        white, blue|          red|        33|  none|masculine|         Naboo|    Droid|A New Hope, The E...|                    |                    |[ReferentialInteg...|                  []|[RowCount = 42, C...|                     Passed|\n",
						"|               C-3PO|   167|  75|        NA|               gold|       yellow|       112|  none|masculine|      Tatooine|    Droid|A New Hope, The E...|                    |                    |[ReferentialInteg...|                  []|[RowCount = 42, C...|                     Passed|\n",
						"|               R5-D4|    97|  32|        NA|         white, red|          red|        NA|  none|masculine|      Tatooine|    Droid|          A New Hope|                    |                    |[ReferentialInteg...|                  []|[RowCount = 42, C...|                     Passed|\n",
						"|Wicket Systri War...|    88|  20|     brown|              brown|        brown|         8|  male|masculine|         Endor|     Ewok|  Return of the Jedi|                    |                    |[ReferentialInteg...|                  []|[RowCount = 42, C...|                     Passed|\n",
						"|            Grievous|   216| 159|      none|       brown, white|green, yellow|        NA|  male|masculine|         Kalee|  Kaleesh| Revenge of the Sith|Tsmeu-6 personal ...|Belbullab-22 star...|[ReferentialInteg...|                  []|[RowCount = 42, C...|                     Passed|\n",
						"|            Shaak Ti|   178|  57|      none|   red, blue, white|        black|        NA|female| feminine|         Shili|  Togruta|Attack of the Clo...|                    |                    |[ReferentialInteg...|                  []|[RowCount = 42, C...|                     Passed|\n",
						"+--------------------+------+----+----------+-------------------+-------------+----------+------+---------+--------------+---------+--------------------+--------------------+--------------------+--------------------+--------------------+--------------------+---------------------------+\n",
						"only showing top 20 rows\n"
					]
				}
			],
			"source": [
				"rowLevelOutcomes.show()"
			]
		},
		{
			"cell_type": "code",
			"execution_count": 34,
			"metadata": {
				"tags": [],
				"trusted": true,
				"vscode": {
					"languageId": "python_glue_session"
				}
			},
			"outputs": [
				{
					"name": "stdout",
					"output_type": "stream",
					"text": [
						"+-------------+-------+--------------------+--------------------+-------------+\n",
						"|         Rule|Outcome|       FailureReason|    EvaluatedMetrics|EvaluatedRule|\n",
						"+-------------+-------+--------------------+--------------------+-------------+\n",
						"|RowCount = 42| Failed|Value: 87 does no...|{Dataset.*.RowCou...|RowCount = 42|\n",
						"+-------------+-------+--------------------+--------------------+-------------+\n"
					]
				}
			],
			"source": [
				"ruleOutcomes.filter(\"Outcome == 'Failed'\").show()"
			]
		},
		{
			"cell_type": "code",
			"execution_count": null,
			"metadata": {
				"vscode": {
					"languageId": "python_glue_session"
				}
			},
			"outputs": [],
			"source": []
		}
	],
	"metadata": {
		"kernelspec": {
			"display_name": "Glue PySpark",
			"language": "python",
			"name": "glue_pyspark"
		},
		"language_info": {
			"codemirror_mode": {
				"name": "python",
				"version": 3
			},
			"file_extension": ".py",
			"mimetype": "text/x-python",
			"name": "Python_Glue_Session",
			"pygments_lexer": "python3"
		}
	},
	"nbformat": 4,
	"nbformat_minor": 4
}
