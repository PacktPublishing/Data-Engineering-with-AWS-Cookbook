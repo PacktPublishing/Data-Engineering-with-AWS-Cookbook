{
	"metadata": {
		"kernelspec": {
			"name": "glue_pyspark",
			"display_name": "Glue PySpark",
			"language": "python"
		},
		"language_info": {
			"name": "Python_Glue_Session",
			"mimetype": "text/x-python",
			"codemirror_mode": {
				"name": "python",
				"version": 3
			},
			"pygments_lexer": "python3",
			"file_extension": ".py"
		}
	},
	"nbformat_minor": 4,
	"nbformat": 4,
	"cells": [
		{
			"cell_type": "markdown",
			"source": "# AWS Glue Studio Notebook\n##### You are now running a AWS Glue Studio notebook; To start using your notebook you need to start an AWS Glue Interactive Session.\n",
			"metadata": {
				"editable": true,
				"trusted": true
			}
		},
		{
			"cell_type": "markdown",
			"source": "#### Optional: Run this cell to see available notebook commands (\"magics\").\n",
			"metadata": {
				"editable": true,
				"trusted": true
			}
		},
		{
			"cell_type": "code",
			"source": "%help",
			"metadata": {
				"trusted": true,
				"editable": true
			},
			"execution_count": null,
			"outputs": []
		},
		{
			"cell_type": "markdown",
			"source": "####  Run this cell to set up and start your interactive session.\n",
			"metadata": {
				"editable": true,
				"trusted": true
			}
		},
		{
			"cell_type": "code",
			"source": "%idle_timeout 2880\n%glue_version 4.0\n%worker_type G.1X\n%number_of_workers 2\n\nimport sys\nfrom awsglue.transforms import *\nfrom awsglue.utils import getResolvedOptions\nfrom pyspark.context import SparkContext\nfrom awsglue.context import GlueContext\nfrom awsglue.job import Job\n  \nsc = SparkContext.getOrCreate()\nglueContext = GlueContext(sc)\nspark = glueContext.spark_session\njob = Job(glueContext)",
			"metadata": {
				"trusted": true,
				"editable": true
			},
			"execution_count": null,
			"outputs": []
		},
		{
			"cell_type": "code",
			"source": "import boto3\nfrom pyspark.sql.functions import rand\nfrom awsglue.dynamicframe import DynamicFrame\n\naccount_id = boto3.client('sts').get_caller_identity(\n                              )[\"Account\"]\ns3_bucket = f\"glue-recipes-{account_id}\"\ns3_path = f\"s3://{s3_bucket}/pushdown_recipe_table/\"\ndatabase = \"default\"\ntable_name = \"pushdown_recipe_table\"\n\ndf = spark.range(1 << 8).withColumn(\"value\", rand())\nsink = glueContext.getSink(connection_type=\"s3\",\n          path=s3_path, enableUpdateCatalog=True,\n          updateBehavior=\"UPDATE_IN_DATABASE\",\n          partitionKeys=[\"id\"])\nsink.setFormat(\"avro\")\nsink.setCatalogInfo(catalogDatabase=database, catalogTableName=table_name)\nsink.writeFrame(DynamicFrame.fromDF(df, glueContext))",
			"metadata": {
				"trusted": true,
				"tags": []
			},
			"execution_count": 15,
			"outputs": [
				{
					"name": "stdout",
					"text": "<awsglue.dynamicframe.DynamicFrame object at 0x7ff9290ab670>\n",
					"output_type": "stream"
				}
			]
		},
		{
			"cell_type": "code",
			"source": "# Number of rows in the table\nglueContext.create_dynamic_frame.from_catalog(\n      database=database,\n      table_name=table_name).count()",
			"metadata": {
				"trusted": true,
				"tags": []
			},
			"execution_count": 16,
			"outputs": [
				{
					"name": "stdout",
					"text": "1024\n",
					"output_type": "stream"
				}
			]
		},
		{
			"cell_type": "code",
			"source": "# Rows in specific partitions\nglueContext.create_dynamic_frame.from_catalog(\n    database=database, table_name=table_name,\n    push_down_predicate=\"id in (3, 6, 9)\",\n    additional_options={\n           \"catalogPartitionPredicate\":\"id < 10\"\n    }\n).count()",
			"metadata": {
				"trusted": true,
				"tags": []
			},
			"execution_count": 17,
			"outputs": [
				{
					"name": "stdout",
					"text": "12\n",
					"output_type": "stream"
				}
			]
		},
		{
			"cell_type": "code",
			"source": "# Same query using SparkSQL and automatic pushdown\nspark.sql(f\"SELECT * FROM {database}.{table_name}\"\n           \" WHERE id IN (3, 6, 9)\").count()",
			"metadata": {
				"trusted": true,
				"tags": []
			},
			"execution_count": 18,
			"outputs": [
				{
					"name": "stdout",
					"text": "12\n",
					"output_type": "stream"
				}
			]
		},
		{
			"cell_type": "code",
			"source": "boto3.client('glue').delete_table( \n  DatabaseName=database,Name=table_name)",
			"metadata": {
				"trusted": true,
				"tags": []
			},
			"execution_count": 19,
			"outputs": [
				{
					"name": "stdout",
					"text": "{'ResponseMetadata': {'RequestId': 'ea16bb4f-c0d4-476b-9cbb-351d37e0b622', 'HTTPStatusCode': 200, 'HTTPHeaders': {'date': 'Thu, 16 May 2024 13:05:26 GMT', 'content-type': 'application/x-amz-json-1.1', 'content-length': '2', 'connection': 'keep-alive', 'x-amzn-requestid': 'ea16bb4f-c0d4-476b-9cbb-351d37e0b622'}, 'RetryAttempts': 0}}\n",
					"output_type": "stream"
				}
			]
		}
	]
}